{
 "cells": [
  {
   "cell_type": "code",
   "execution_count": 1,
   "id": "688ccc66-fb67-4248-992d-b25055009916",
   "metadata": {},
   "outputs": [],
   "source": [
    "import time \n",
    "import numpy as np \n",
    "import pandas as pd\n",
    "import os \n",
    "import pandas_ta as ta\n",
    "import ccxt\n",
    "from datetime import datetime\n",
    "from xgboost import XGBRegressor  \n",
    "import optuna \n",
    "from tqdm.auto import tqdm\n",
    "from sklearn.metrics import mean_absolute_error, mean_squared_error\n",
    "import matplotlib.pyplot as plt\n",
    "from tqdm.auto import tqdm\n",
    "from sklearn.preprocessing import MinMaxScaler\n",
    "import sys\n",
    "if not \"Informer2020\" in sys.path:\n",
    "    sys.path += [\"Informer2020\"]\n",
    "from Informer2020.models.model import Informer, InformerStack\n",
    "\n",
    "import torch \n",
    "import torch.nn as nn \n",
    "import torch.nn.functional as F\n",
    "from torch.utils.data import Dataset, TensorDataset, DataLoader, RandomSampler, SequentialSampler"
   ]
  },
  {
   "cell_type": "code",
   "execution_count": 2,
   "id": "43ff9b53-c9df-445d-ad6d-3e3626ee8bd3",
   "metadata": {},
   "outputs": [
    {
     "data": {
      "application/vnd.jupyter.widget-view+json": {
       "model_id": "1a18f3fd5f584c83b877cb6b64217151",
       "version_major": 2,
       "version_minor": 0
      },
      "text/plain": [
       "  0%|          | 0/13719 [00:00<?, ?it/s]"
      ]
     },
     "metadata": {},
     "output_type": "display_data"
    }
   ],
   "source": [
    "chart_df = pd.read_feather('BTC_USDT-4h.feather')\n",
    "chart_df['date'] = pd.to_datetime(chart_df['date'])\n",
    "chart_df['date'] = chart_df['date'].dt.tz_localize(None) \n",
    "\n",
    "hours, days, months = [], [], [] \n",
    "for dt in tqdm(chart_df[\"date\"]): \n",
    "    dtobj = pd.to_datetime(dt) \n",
    "    hour = dtobj.hour \n",
    "    day = dtobj.day \n",
    "    month = dtobj.month \n",
    "    hours.append(hour) \n",
    "    days.append(day) \n",
    "    months.append(month) \n",
    "\n",
    "chart_df[\"hours\"] = hours \n",
    "chart_df[\"days\"] = days \n",
    "chart_df[\"months\"] = months \n",
    "\n",
    "# define targets \n",
    "close = chart_df.close.values \n",
    "targets = [] \n",
    "\n",
    "for i in range(len(close) - 1): \n",
    "    targets.append(close[i+1]) \n",
    "targets.append(None) \n",
    "chart_df[\"targets\"] = targets "
   ]
  },
  {
   "cell_type": "code",
   "execution_count": 3,
   "id": "0c500d87-a472-4443-83fb-b265549330ec",
   "metadata": {},
   "outputs": [],
   "source": [
    "chart_df.drop(columns={\"date\"}, inplace=True)"
   ]
  },
  {
   "cell_type": "code",
   "execution_count": 4,
   "id": "0fb506db-d857-4157-a524-2f041ed2cac6",
   "metadata": {},
   "outputs": [],
   "source": [
    "scaler = MinMaxScaler() \n",
    "datetime_info = chart_df[[\"months\", \"days\", \"hours\"]].values "
   ]
  },
  {
   "cell_type": "code",
   "execution_count": 5,
   "id": "5fadd9bc-88e6-4fb9-ba99-f2657c30073d",
   "metadata": {},
   "outputs": [],
   "source": [
    "train_size = int(chart_df.shape[0] * 0.8) \n",
    "\n",
    "train_datetime_info = datetime_info[:train_size] \n",
    "val_datetime_info = datetime_info[train_size:] \n",
    "\n",
    "train_chart_df = chart_df.iloc[:train_size] \n",
    "val_chart_df = chart_df.iloc[train_size:] \n",
    "\n",
    "# Min-Max Scaling \n",
    "train_chart_df = scaler.fit_transform(train_chart_df[[\"open\", \"high\", \"low\", \"close\", \"volume\"]]) \n",
    "val_chart_df = scaler.transform(val_chart_df[[\"open\", \"high\", \"low\", \"close\", \"volume\"]]) "
   ]
  },
  {
   "cell_type": "code",
   "execution_count": 6,
   "id": "7c2e92e1-0bb6-43cf-965f-92f6ac8906b6",
   "metadata": {},
   "outputs": [],
   "source": [
    "def preprocess_data_for_informer(chart_df, datetime_info, window_size=42, target_size=1): \n",
    "    cur_enc_inputs, cur_dec_inputs, cur_targets, cur_enc_marks, cur_dec_marks = [], [], [], [], [] \n",
    "    \n",
    "    for i in range(0, len(chart_df) - window_size - target_size): \n",
    "        x = chart_df[i:i+window_size, [0, 1, 2, 3, 4]] \n",
    "        y = chart_df[i+window_size:i+window_size+target_size, 3] \n",
    "        start_tokens = chart_df[i:i+window_size, 3].reshape((-1, 1)) \n",
    "        y_0 = np.zeros((target_size, 1)) \n",
    "    \n",
    "        cur_enc_inputs.append(x) \n",
    "        cur_dec_inputs.append(np.concatenate([start_tokens, y_0])) \n",
    "        cur_targets.append(y) \n",
    "        cur_enc_marks.append(datetime_info[i:i+window_size]) \n",
    "        cur_dec_marks.append(datetime_info[i+window_size:i+window_size+target_size])\n",
    "    \n",
    "    cur_enc_inputs = torch.tensor(cur_enc_inputs).float() \n",
    "    cur_dec_inputs = torch.tensor(cur_dec_inputs).float() \n",
    "    cur_targets = torch.tensor(cur_targets).float() \n",
    "    cur_enc_marks = torch.tensor(cur_enc_marks).float() \n",
    "    cur_dec_marks = torch.tensor(cur_dec_marks).float() \n",
    "    \n",
    "    return cur_enc_inputs, cur_dec_inputs, cur_targets, cur_enc_marks, cur_dec_marks \n",
    "    "
   ]
  },
  {
   "cell_type": "code",
   "execution_count": 7,
   "id": "fbacaa0e-22a4-42d2-a143-5df6691fa233",
   "metadata": {},
   "outputs": [
    {
     "name": "stderr",
     "output_type": "stream",
     "text": [
      "/tmp/ipykernel_784/1000196690.py:16: UserWarning: Creating a tensor from a list of numpy.ndarrays is extremely slow. Please consider converting the list to a single numpy.ndarray with numpy.array() before converting to a tensor. (Triggered internally at  ../torch/csrc/utils/tensor_new.cpp:201.)\n",
      "  cur_enc_inputs = torch.tensor(cur_enc_inputs).float()\n"
     ]
    },
    {
     "data": {
      "text/plain": [
       "(torch.Size([10932, 42, 5]),\n",
       " torch.Size([10932, 43, 1]),\n",
       " torch.Size([10932, 1]),\n",
       " torch.Size([10932, 42, 3]),\n",
       " torch.Size([10932, 1, 3]),\n",
       " torch.Size([2701, 42, 5]),\n",
       " torch.Size([2701, 43, 1]),\n",
       " torch.Size([2701, 1]),\n",
       " torch.Size([2701, 42, 3]),\n",
       " torch.Size([2701, 1, 3]))"
      ]
     },
     "execution_count": 7,
     "metadata": {},
     "output_type": "execute_result"
    }
   ],
   "source": [
    "train_enc_inputs, train_dec_inputs, train_targets, train_enc_marks, train_dec_marks = preprocess_data_for_informer(train_chart_df, train_datetime_info)\n",
    "\n",
    "val_enc_inputs, val_dec_inputs, val_targets, val_enc_marks, val_dec_marks = preprocess_data_for_informer(val_chart_df, val_datetime_info)\n",
    "\n",
    "train_enc_inputs.shape, train_dec_inputs.shape, train_targets.shape, train_enc_marks.shape, train_dec_marks.shape, val_enc_inputs.shape, val_dec_inputs.shape, val_targets.shape, val_enc_marks.shape, val_dec_marks.shape"
   ]
  },
  {
   "cell_type": "code",
   "execution_count": 8,
   "id": "17d5e6fb-ba10-427a-ae13-e2743bd2cf4d",
   "metadata": {},
   "outputs": [],
   "source": [
    "batch_size = 128\n",
    "train_data = TensorDataset(train_enc_inputs, train_dec_inputs, train_targets, train_enc_marks, train_dec_marks)\n",
    "train_sampler = RandomSampler(train_data) \n",
    "train_dataloader = DataLoader(train_data, sampler=train_sampler, batch_size=batch_size)\n",
    "\n",
    "val_data = TensorDataset(val_enc_inputs, val_dec_inputs, val_targets, val_enc_marks, val_dec_marks) \n",
    "val_sampler = SequentialSampler(val_data) \n",
    "val_dataloader = DataLoader(val_data, sampler=val_sampler, batch_size=batch_size)"
   ]
  },
  {
   "cell_type": "code",
   "execution_count": 12,
   "id": "6921816a-a534-4f5f-869c-adae668e7194",
   "metadata": {},
   "outputs": [
    {
     "data": {
      "application/vnd.jupyter.widget-view+json": {
       "model_id": "e5f578c2780b465d839eb2f724f2d1a0",
       "version_major": 2,
       "version_minor": 0
      },
      "text/plain": [
       "Epochs:   0%|          | 0/20 [00:00<?, ?it/s]"
      ]
     },
     "metadata": {},
     "output_type": "display_data"
    },
    {
     "data": {
      "application/vnd.jupyter.widget-view+json": {
       "model_id": "dd26b101afd14eb08edde66b0cc84588",
       "version_major": 2,
       "version_minor": 0
      },
      "text/plain": [
       "training:   0%|          | 0/86 [00:00<?, ?it/s]"
      ]
     },
     "metadata": {},
     "output_type": "display_data"
    },
    {
     "data": {
      "application/vnd.jupyter.widget-view+json": {
       "model_id": "2a69ab8f694c48179b6ff63926fbca15",
       "version_major": 2,
       "version_minor": 0
      },
      "text/plain": [
       "validating:   0%|          | 0/22 [00:00<?, ?it/s]"
      ]
     },
     "metadata": {},
     "output_type": "display_data"
    },
    {
     "name": "stdout",
     "output_type": "stream",
     "text": [
      "Epoch:0 | Avg Train Loss:0.3376868665218353 | Avg Val Loss:0.12915989553386514\n"
     ]
    },
    {
     "name": "stderr",
     "output_type": "stream",
     "text": [
      "/usr/local/lib/python3.9/dist-packages/torch/nn/modules/loss.py:96: UserWarning: Using a target size (torch.Size([13, 1])) that is different to the input size (torch.Size([13, 1, 1])). This will likely lead to incorrect results due to broadcasting. Please ensure they have the same size.\n",
      "  return F.l1_loss(input, target, reduction=self.reduction)\n"
     ]
    },
    {
     "data": {
      "application/vnd.jupyter.widget-view+json": {
       "model_id": "97c87d8871b44fc487435b249381eb21",
       "version_major": 2,
       "version_minor": 0
      },
      "text/plain": [
       "training:   0%|          | 0/86 [00:00<?, ?it/s]"
      ]
     },
     "metadata": {},
     "output_type": "display_data"
    },
    {
     "data": {
      "application/vnd.jupyter.widget-view+json": {
       "model_id": "db252623298548469bd9ba5005786771",
       "version_major": 2,
       "version_minor": 0
      },
      "text/plain": [
       "validating:   0%|          | 0/22 [00:00<?, ?it/s]"
      ]
     },
     "metadata": {},
     "output_type": "display_data"
    },
    {
     "name": "stdout",
     "output_type": "stream",
     "text": [
      "Epoch:1 | Avg Train Loss:0.26912521068439926 | Avg Val Loss:0.13798146542500367\n"
     ]
    },
    {
     "data": {
      "application/vnd.jupyter.widget-view+json": {
       "model_id": "bcd624433d214ba089daa1d6e667078a",
       "version_major": 2,
       "version_minor": 0
      },
      "text/plain": [
       "training:   0%|          | 0/86 [00:00<?, ?it/s]"
      ]
     },
     "metadata": {},
     "output_type": "display_data"
    },
    {
     "data": {
      "application/vnd.jupyter.widget-view+json": {
       "model_id": "97eef99d72f749f5befec4785cf1915e",
       "version_major": 2,
       "version_minor": 0
      },
      "text/plain": [
       "validating:   0%|          | 0/22 [00:00<?, ?it/s]"
      ]
     },
     "metadata": {},
     "output_type": "display_data"
    },
    {
     "name": "stdout",
     "output_type": "stream",
     "text": [
      "Epoch:2 | Avg Train Loss:0.23737473352703936 | Avg Val Loss:0.09879831317812204\n"
     ]
    },
    {
     "data": {
      "application/vnd.jupyter.widget-view+json": {
       "model_id": "1f56ee19a7154398b1f112821cf202f2",
       "version_major": 2,
       "version_minor": 0
      },
      "text/plain": [
       "training:   0%|          | 0/86 [00:00<?, ?it/s]"
      ]
     },
     "metadata": {},
     "output_type": "display_data"
    },
    {
     "data": {
      "application/vnd.jupyter.widget-view+json": {
       "model_id": "eb08cec7021f4089a2dca5af420cf738",
       "version_major": 2,
       "version_minor": 0
      },
      "text/plain": [
       "validating:   0%|          | 0/22 [00:00<?, ?it/s]"
      ]
     },
     "metadata": {},
     "output_type": "display_data"
    },
    {
     "name": "stdout",
     "output_type": "stream",
     "text": [
      "Epoch:3 | Avg Train Loss:0.2170338421020397 | Avg Val Loss:0.20282741805369203\n"
     ]
    },
    {
     "data": {
      "application/vnd.jupyter.widget-view+json": {
       "model_id": "c4adace7bd31441e9469233b3e7f4a2b",
       "version_major": 2,
       "version_minor": 0
      },
      "text/plain": [
       "training:   0%|          | 0/86 [00:00<?, ?it/s]"
      ]
     },
     "metadata": {},
     "output_type": "display_data"
    },
    {
     "data": {
      "application/vnd.jupyter.widget-view+json": {
       "model_id": "3822dc3aa36d4e0aa47f4a9abd2d55df",
       "version_major": 2,
       "version_minor": 0
      },
      "text/plain": [
       "validating:   0%|          | 0/22 [00:00<?, ?it/s]"
      ]
     },
     "metadata": {},
     "output_type": "display_data"
    },
    {
     "name": "stdout",
     "output_type": "stream",
     "text": [
      "Epoch:4 | Avg Train Loss:0.20497255824333013 | Avg Val Loss:0.11860218889672648\n"
     ]
    },
    {
     "data": {
      "application/vnd.jupyter.widget-view+json": {
       "model_id": "48faf96564c84726acee2f96e340f29c",
       "version_major": 2,
       "version_minor": 0
      },
      "text/plain": [
       "training:   0%|          | 0/86 [00:00<?, ?it/s]"
      ]
     },
     "metadata": {},
     "output_type": "display_data"
    },
    {
     "data": {
      "application/vnd.jupyter.widget-view+json": {
       "model_id": "18cc79f8755844c386c3a7d1b8381db4",
       "version_major": 2,
       "version_minor": 0
      },
      "text/plain": [
       "validating:   0%|          | 0/22 [00:00<?, ?it/s]"
      ]
     },
     "metadata": {},
     "output_type": "display_data"
    },
    {
     "name": "stdout",
     "output_type": "stream",
     "text": [
      "Epoch:5 | Avg Train Loss:0.20163010996441508 | Avg Val Loss:0.2726616615598852\n"
     ]
    },
    {
     "data": {
      "application/vnd.jupyter.widget-view+json": {
       "model_id": "b20863c00f384d218ea3cae5e6af06c1",
       "version_major": 2,
       "version_minor": 0
      },
      "text/plain": [
       "training:   0%|          | 0/86 [00:00<?, ?it/s]"
      ]
     },
     "metadata": {},
     "output_type": "display_data"
    },
    {
     "data": {
      "application/vnd.jupyter.widget-view+json": {
       "model_id": "61225679db944e9da1fcc003409174d2",
       "version_major": 2,
       "version_minor": 0
      },
      "text/plain": [
       "validating:   0%|          | 0/22 [00:00<?, ?it/s]"
      ]
     },
     "metadata": {},
     "output_type": "display_data"
    },
    {
     "name": "stdout",
     "output_type": "stream",
     "text": [
      "Epoch:6 | Avg Train Loss:0.20531628662070564 | Avg Val Loss:0.19298789904198863\n"
     ]
    },
    {
     "data": {
      "application/vnd.jupyter.widget-view+json": {
       "model_id": "b3ff9586f2684007a158c49ca9297fd2",
       "version_major": 2,
       "version_minor": 0
      },
      "text/plain": [
       "training:   0%|          | 0/86 [00:00<?, ?it/s]"
      ]
     },
     "metadata": {},
     "output_type": "display_data"
    },
    {
     "data": {
      "application/vnd.jupyter.widget-view+json": {
       "model_id": "b4c268b759ac43568e97eba6c7d6da46",
       "version_major": 2,
       "version_minor": 0
      },
      "text/plain": [
       "validating:   0%|          | 0/22 [00:00<?, ?it/s]"
      ]
     },
     "metadata": {},
     "output_type": "display_data"
    },
    {
     "name": "stdout",
     "output_type": "stream",
     "text": [
      "Epoch:7 | Avg Train Loss:0.20371763078972352 | Avg Val Loss:0.285510697148063\n"
     ]
    },
    {
     "data": {
      "application/vnd.jupyter.widget-view+json": {
       "model_id": "5cb05c2f560442c08b473a65f59a2976",
       "version_major": 2,
       "version_minor": 0
      },
      "text/plain": [
       "training:   0%|          | 0/86 [00:00<?, ?it/s]"
      ]
     },
     "metadata": {},
     "output_type": "display_data"
    },
    {
     "data": {
      "application/vnd.jupyter.widget-view+json": {
       "model_id": "17478a90fd7449bc98a4f74c39e06b8c",
       "version_major": 2,
       "version_minor": 0
      },
      "text/plain": [
       "validating:   0%|          | 0/22 [00:00<?, ?it/s]"
      ]
     },
     "metadata": {},
     "output_type": "display_data"
    },
    {
     "name": "stdout",
     "output_type": "stream",
     "text": [
      "Epoch:8 | Avg Train Loss:0.19802134657321974 | Avg Val Loss:0.1732963596216657\n"
     ]
    },
    {
     "data": {
      "application/vnd.jupyter.widget-view+json": {
       "model_id": "50dcf286056f42b1a44b956c39824249",
       "version_major": 2,
       "version_minor": 0
      },
      "text/plain": [
       "training:   0%|          | 0/86 [00:00<?, ?it/s]"
      ]
     },
     "metadata": {},
     "output_type": "display_data"
    },
    {
     "data": {
      "application/vnd.jupyter.widget-view+json": {
       "model_id": "c7aacb9efc7d402a9ab77eb05508851a",
       "version_major": 2,
       "version_minor": 0
      },
      "text/plain": [
       "validating:   0%|          | 0/22 [00:00<?, ?it/s]"
      ]
     },
     "metadata": {},
     "output_type": "display_data"
    },
    {
     "name": "stdout",
     "output_type": "stream",
     "text": [
      "Epoch:9 | Avg Train Loss:0.1963834086822909 | Avg Val Loss:0.175776331262155\n"
     ]
    },
    {
     "data": {
      "application/vnd.jupyter.widget-view+json": {
       "model_id": "535f8052e7f74fb9b4a59374305d2e37",
       "version_major": 2,
       "version_minor": 0
      },
      "text/plain": [
       "training:   0%|          | 0/86 [00:00<?, ?it/s]"
      ]
     },
     "metadata": {},
     "output_type": "display_data"
    },
    {
     "data": {
      "application/vnd.jupyter.widget-view+json": {
       "model_id": "532f090f1f87425eb27a5760cff65f38",
       "version_major": 2,
       "version_minor": 0
      },
      "text/plain": [
       "validating:   0%|          | 0/22 [00:00<?, ?it/s]"
      ]
     },
     "metadata": {},
     "output_type": "display_data"
    },
    {
     "name": "stdout",
     "output_type": "stream",
     "text": [
      "Epoch:10 | Avg Train Loss:0.20084145162687744 | Avg Val Loss:0.22878928279334848\n"
     ]
    },
    {
     "data": {
      "application/vnd.jupyter.widget-view+json": {
       "model_id": "245ef214b63a419bb1ec2ccae6b54041",
       "version_major": 2,
       "version_minor": 0
      },
      "text/plain": [
       "training:   0%|          | 0/86 [00:00<?, ?it/s]"
      ]
     },
     "metadata": {},
     "output_type": "display_data"
    },
    {
     "data": {
      "application/vnd.jupyter.widget-view+json": {
       "model_id": "0c1d7be0880a49f8a2a00c9c9c8e3d2e",
       "version_major": 2,
       "version_minor": 0
      },
      "text/plain": [
       "validating:   0%|          | 0/22 [00:00<?, ?it/s]"
      ]
     },
     "metadata": {},
     "output_type": "display_data"
    },
    {
     "name": "stdout",
     "output_type": "stream",
     "text": [
      "Epoch:11 | Avg Train Loss:0.19550652680701988 | Avg Val Loss:0.21480278907851738\n"
     ]
    },
    {
     "data": {
      "application/vnd.jupyter.widget-view+json": {
       "model_id": "c09162844f2044478630f44b518a005f",
       "version_major": 2,
       "version_minor": 0
      },
      "text/plain": [
       "training:   0%|          | 0/86 [00:00<?, ?it/s]"
      ]
     },
     "metadata": {},
     "output_type": "display_data"
    },
    {
     "data": {
      "application/vnd.jupyter.widget-view+json": {
       "model_id": "ea44ee68a10f4f41a1ecec6ff9ed0765",
       "version_major": 2,
       "version_minor": 0
      },
      "text/plain": [
       "validating:   0%|          | 0/22 [00:00<?, ?it/s]"
      ]
     },
     "metadata": {},
     "output_type": "display_data"
    },
    {
     "name": "stdout",
     "output_type": "stream",
     "text": [
      "Epoch:12 | Avg Train Loss:0.20411404846019524 | Avg Val Loss:0.251172238452868\n"
     ]
    },
    {
     "data": {
      "application/vnd.jupyter.widget-view+json": {
       "model_id": "02de07d2b93d4678bf4b3c00b218a0fe",
       "version_major": 2,
       "version_minor": 0
      },
      "text/plain": [
       "training:   0%|          | 0/86 [00:00<?, ?it/s]"
      ]
     },
     "metadata": {},
     "output_type": "display_data"
    },
    {
     "data": {
      "application/vnd.jupyter.widget-view+json": {
       "model_id": "741e2fd325394bc99b09c4f2538f54c3",
       "version_major": 2,
       "version_minor": 0
      },
      "text/plain": [
       "validating:   0%|          | 0/22 [00:00<?, ?it/s]"
      ]
     },
     "metadata": {},
     "output_type": "display_data"
    },
    {
     "name": "stdout",
     "output_type": "stream",
     "text": [
      "Epoch:13 | Avg Train Loss:0.19404220979574116 | Avg Val Loss:0.22675407914952797\n"
     ]
    },
    {
     "data": {
      "application/vnd.jupyter.widget-view+json": {
       "model_id": "b1362e4398f840e68300703dda8eada9",
       "version_major": 2,
       "version_minor": 0
      },
      "text/plain": [
       "training:   0%|          | 0/86 [00:00<?, ?it/s]"
      ]
     },
     "metadata": {},
     "output_type": "display_data"
    },
    {
     "data": {
      "application/vnd.jupyter.widget-view+json": {
       "model_id": "12b79ccc2b384693851f886aebc433a8",
       "version_major": 2,
       "version_minor": 0
      },
      "text/plain": [
       "validating:   0%|          | 0/22 [00:00<?, ?it/s]"
      ]
     },
     "metadata": {},
     "output_type": "display_data"
    },
    {
     "name": "stdout",
     "output_type": "stream",
     "text": [
      "Epoch:14 | Avg Train Loss:0.194987774068533 | Avg Val Loss:0.18320824087343432\n"
     ]
    },
    {
     "data": {
      "application/vnd.jupyter.widget-view+json": {
       "model_id": "608d4cab87954df8b7e4d73833da0f0b",
       "version_major": 2,
       "version_minor": 0
      },
      "text/plain": [
       "training:   0%|          | 0/86 [00:00<?, ?it/s]"
      ]
     },
     "metadata": {},
     "output_type": "display_data"
    },
    {
     "data": {
      "application/vnd.jupyter.widget-view+json": {
       "model_id": "e3102e5476a74ea79320b85bd3a63bd0",
       "version_major": 2,
       "version_minor": 0
      },
      "text/plain": [
       "validating:   0%|          | 0/22 [00:00<?, ?it/s]"
      ]
     },
     "metadata": {},
     "output_type": "display_data"
    },
    {
     "name": "stdout",
     "output_type": "stream",
     "text": [
      "Epoch:15 | Avg Train Loss:0.19459551104972528 | Avg Val Loss:0.26986076547340915\n"
     ]
    },
    {
     "data": {
      "application/vnd.jupyter.widget-view+json": {
       "model_id": "fa7befba90ac46e49cee35a34f3ca4a5",
       "version_major": 2,
       "version_minor": 0
      },
      "text/plain": [
       "training:   0%|          | 0/86 [00:00<?, ?it/s]"
      ]
     },
     "metadata": {},
     "output_type": "display_data"
    },
    {
     "data": {
      "application/vnd.jupyter.widget-view+json": {
       "model_id": "f5368437de3447a6a234a7e0a64cd652",
       "version_major": 2,
       "version_minor": 0
      },
      "text/plain": [
       "validating:   0%|          | 0/22 [00:00<?, ?it/s]"
      ]
     },
     "metadata": {},
     "output_type": "display_data"
    },
    {
     "name": "stdout",
     "output_type": "stream",
     "text": [
      "Epoch:16 | Avg Train Loss:0.1989707673011824 | Avg Val Loss:0.29867396503686905\n"
     ]
    },
    {
     "data": {
      "application/vnd.jupyter.widget-view+json": {
       "model_id": "fdfec3c3baeb48108a89711ed28f4fb2",
       "version_major": 2,
       "version_minor": 0
      },
      "text/plain": [
       "training:   0%|          | 0/86 [00:00<?, ?it/s]"
      ]
     },
     "metadata": {},
     "output_type": "display_data"
    },
    {
     "data": {
      "application/vnd.jupyter.widget-view+json": {
       "model_id": "3f7af9b7a6424b91af4b1fbf14edde88",
       "version_major": 2,
       "version_minor": 0
      },
      "text/plain": [
       "validating:   0%|          | 0/22 [00:00<?, ?it/s]"
      ]
     },
     "metadata": {},
     "output_type": "display_data"
    },
    {
     "name": "stdout",
     "output_type": "stream",
     "text": [
      "Epoch:17 | Avg Train Loss:0.19433280583037887 | Avg Val Loss:0.22112292220646684\n"
     ]
    },
    {
     "data": {
      "application/vnd.jupyter.widget-view+json": {
       "model_id": "e755ef24350e4c688a67e9971a9038d8",
       "version_major": 2,
       "version_minor": 0
      },
      "text/plain": [
       "training:   0%|          | 0/86 [00:00<?, ?it/s]"
      ]
     },
     "metadata": {},
     "output_type": "display_data"
    },
    {
     "data": {
      "application/vnd.jupyter.widget-view+json": {
       "model_id": "b6b8bb0d84964e5988ecb3d70924f213",
       "version_major": 2,
       "version_minor": 0
      },
      "text/plain": [
       "validating:   0%|          | 0/22 [00:00<?, ?it/s]"
      ]
     },
     "metadata": {},
     "output_type": "display_data"
    },
    {
     "name": "stdout",
     "output_type": "stream",
     "text": [
      "Epoch:18 | Avg Train Loss:0.19421882806129234 | Avg Val Loss:0.2423662692308426\n"
     ]
    },
    {
     "data": {
      "application/vnd.jupyter.widget-view+json": {
       "model_id": "e73a64387ade40a58b610f832d017658",
       "version_major": 2,
       "version_minor": 0
      },
      "text/plain": [
       "training:   0%|          | 0/86 [00:00<?, ?it/s]"
      ]
     },
     "metadata": {},
     "output_type": "display_data"
    },
    {
     "data": {
      "application/vnd.jupyter.widget-view+json": {
       "model_id": "e403a53b1fff43deab770c790f77c3b2",
       "version_major": 2,
       "version_minor": 0
      },
      "text/plain": [
       "validating:   0%|          | 0/22 [00:00<?, ?it/s]"
      ]
     },
     "metadata": {},
     "output_type": "display_data"
    },
    {
     "name": "stdout",
     "output_type": "stream",
     "text": [
      "Epoch:19 | Avg Train Loss:0.19425832237615143 | Avg Val Loss:0.18662975237450816\n"
     ]
    }
   ],
   "source": [
    "best_val_loss = np.inf \n",
    "device = torch.device(\"cuda\")\n",
    "model = InformerStack(enc_in=5, dec_in=1, c_out=1, seq_len=42, label_len=42, out_len=1, freq=\"4h\")  \n",
    "model.to(device)\n",
    "optimizer = torch.optim.AdamW(model.parameters(), lr=1e-4)\n",
    "loss_func = torch.nn.L1Loss()\n",
    "train_losses, val_losses = [], []\n",
    "epochs = 20 \n",
    "model.train() \n",
    "model.zero_grad()\n",
    "for epoch in tqdm(range(epochs), position=0, leave=True, desc=\"Epochs\"):\n",
    "    model.train()\n",
    "    train_loss = 0\n",
    "    for step, batch in tqdm(enumerate(train_dataloader), total=len(train_dataloader), desc=\"training\"): \n",
    "        batch = (t.to(device) for t in batch) \n",
    "        enc_inputs, dec_inputs, targets, enc_marks, dec_marks = batch \n",
    "        output = model(x_enc=enc_inputs, x_mark_enc=enc_marks, x_dec=dec_inputs, x_mark_dec=dec_marks)\n",
    "        loss = loss_func(output, targets) \n",
    "        train_loss += loss.item() \n",
    "        loss.backward() \n",
    "        torch.nn.utils.clip_grad_norm_(model.parameters(), 1.0)\n",
    "        optimizer.step() \n",
    "        model.zero_grad() \n",
    "    model.eval() \n",
    "    val_loss = 0 \n",
    "    for batch in tqdm(val_dataloader, total=len(val_dataloader), desc=\"validating\"): \n",
    "        batch = (t.to(device) for t in batch) \n",
    "        enc_inputs, dec_inputs, targets, enc_marks, dec_marks = batch \n",
    "        with torch.no_grad(): \n",
    "            outputs = model(x_enc=enc_inputs, x_mark_enc=enc_marks, x_dec=dec_inputs, x_mark_dec=dec_marks) \n",
    "            loss = loss_func(outputs, targets)\n",
    "            val_loss += loss.item()\n",
    "    \n",
    "    avg_train_loss = train_loss / len(train_dataloader) \n",
    "    avg_val_loss = val_loss / len(val_dataloader) \n",
    "    \n",
    "    print(f\"Epoch:{epoch} | Avg Train Loss:{avg_train_loss} | Avg Val Loss:{avg_val_loss}\")\n",
    "    \n",
    "    if best_val_loss > avg_val_loss: \n",
    "        best_val_loss = avg_val_loss \n",
    "        torch.save(model.state_dict(), \"BTC_Informer.pt\")"
   ]
  },
  {
   "cell_type": "code",
   "execution_count": 15,
   "id": "5eb61d82-2c7c-448b-b0b5-a9c8b91b331b",
   "metadata": {},
   "outputs": [
    {
     "data": {
      "text/plain": [
       "['informer_scaler.joblib']"
      ]
     },
     "execution_count": 15,
     "metadata": {},
     "output_type": "execute_result"
    }
   ],
   "source": [
    "# inference \n",
    "# save scaler \n",
    "import joblib \n",
    "from joblib import dump\n",
    "dump(scaler, 'informer_scaler.joblib')"
   ]
  },
  {
   "cell_type": "code",
   "execution_count": null,
   "id": "18c56e52-a27f-4a7d-90bf-2d2f498848f6",
   "metadata": {},
   "outputs": [],
   "source": []
  },
  {
   "cell_type": "code",
   "execution_count": null,
   "id": "5b23c93b-0d88-42cb-9749-1b159b78dedb",
   "metadata": {},
   "outputs": [],
   "source": []
  }
 ],
 "metadata": {
  "kernelspec": {
   "display_name": "Python 3 (ipykernel)",
   "language": "python",
   "name": "python3"
  },
  "language_info": {
   "codemirror_mode": {
    "name": "ipython",
    "version": 3
   },
   "file_extension": ".py",
   "mimetype": "text/x-python",
   "name": "python",
   "nbconvert_exporter": "python",
   "pygments_lexer": "ipython3",
   "version": "3.9.16"
  }
 },
 "nbformat": 4,
 "nbformat_minor": 5
}
