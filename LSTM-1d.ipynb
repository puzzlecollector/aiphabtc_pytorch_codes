{
 "cells": [
  {
   "cell_type": "markdown",
   "id": "13216593-a2a6-4cb3-9f8d-84e6af1938c8",
   "metadata": {},
   "source": [
    "# LSTM\n",
    "\n",
    "데모용으로 올려둠 \n",
    "\n",
    "하지만 정확도가 처참하다. 나중에는 고도화. "
   ]
  },
  {
   "cell_type": "code",
   "execution_count": 2,
   "id": "7111f098-b37d-49e9-adae-d51c0318c2e9",
   "metadata": {},
   "outputs": [],
   "source": [
    "#!pip install ccxt \n",
    "#!pip install pandas-ta \n",
    "#!pip install optuna"
   ]
  },
  {
   "cell_type": "code",
   "execution_count": 30,
   "id": "6a08d168-f8a1-42a5-8ee7-7387fec94517",
   "metadata": {},
   "outputs": [],
   "source": [
    "import pandas as pd\n",
    "import ccxt \n",
    "import numpy as np \n",
    "import pandas as pd \n",
    "from tqdm.auto import tqdm \n",
    "from xgboost import XGBClassifier\n",
    "import json \n",
    "import pandas_ta as ta\n",
    "from sklearn.metrics import accuracy_score \n",
    "\n",
    "import torch \n",
    "import torch.nn as nn \n",
    "import torch.optim as optim \n",
    "from torch.utils.data import Dataset, TensorDataset, DataLoader, RandomSampler, SequentialSampler\n",
    "from sklearn.preprocessing import MinMaxScaler \n",
    "from sklearn.model_selection import train_test_split \n",
    "import zoneinfo"
   ]
  },
  {
   "cell_type": "code",
   "execution_count": 14,
   "id": "ec8eeb07-502d-4148-91b7-2a55b47717af",
   "metadata": {},
   "outputs": [],
   "source": [
    "chart_df = pd.read_feather('BTC_USDT-1d (1).feather')\n",
    "chart_df['date'] = pd.to_datetime(chart_df['date'])\n",
    "# Extract year, month, day, and time information\n",
    "chart_df['month'] = chart_df['date'].dt.month\n",
    "chart_df['day'] = chart_df['date'].dt.day\n",
    "chart_df.drop(columns={\"date\"}, inplace=True) "
   ]
  },
  {
   "cell_type": "code",
   "execution_count": 26,
   "id": "a60b5ad4-8c6d-4a9d-afef-e8a2e670d45e",
   "metadata": {},
   "outputs": [
    {
     "data": {
      "text/html": [
       "<div>\n",
       "<style scoped>\n",
       "    .dataframe tbody tr th:only-of-type {\n",
       "        vertical-align: middle;\n",
       "    }\n",
       "\n",
       "    .dataframe tbody tr th {\n",
       "        vertical-align: top;\n",
       "    }\n",
       "\n",
       "    .dataframe thead th {\n",
       "        text-align: right;\n",
       "    }\n",
       "</style>\n",
       "<table border=\"1\" class=\"dataframe\">\n",
       "  <thead>\n",
       "    <tr style=\"text-align: right;\">\n",
       "      <th></th>\n",
       "      <th>open</th>\n",
       "      <th>high</th>\n",
       "      <th>low</th>\n",
       "      <th>close</th>\n",
       "      <th>volume</th>\n",
       "      <th>month</th>\n",
       "      <th>day</th>\n",
       "      <th>targets</th>\n",
       "    </tr>\n",
       "  </thead>\n",
       "  <tbody>\n",
       "    <tr>\n",
       "      <th>0</th>\n",
       "      <td>4261.48</td>\n",
       "      <td>4485.39</td>\n",
       "      <td>4200.74</td>\n",
       "      <td>4285.08</td>\n",
       "      <td>795.150377</td>\n",
       "      <td>8</td>\n",
       "      <td>17</td>\n",
       "      <td>0.0</td>\n",
       "    </tr>\n",
       "    <tr>\n",
       "      <th>1</th>\n",
       "      <td>4285.08</td>\n",
       "      <td>4371.52</td>\n",
       "      <td>3938.77</td>\n",
       "      <td>4108.37</td>\n",
       "      <td>1199.888264</td>\n",
       "      <td>8</td>\n",
       "      <td>18</td>\n",
       "      <td>1.0</td>\n",
       "    </tr>\n",
       "    <tr>\n",
       "      <th>2</th>\n",
       "      <td>4108.37</td>\n",
       "      <td>4184.69</td>\n",
       "      <td>3850.00</td>\n",
       "      <td>4139.98</td>\n",
       "      <td>381.309763</td>\n",
       "      <td>8</td>\n",
       "      <td>19</td>\n",
       "      <td>0.0</td>\n",
       "    </tr>\n",
       "    <tr>\n",
       "      <th>3</th>\n",
       "      <td>4120.98</td>\n",
       "      <td>4211.08</td>\n",
       "      <td>4032.62</td>\n",
       "      <td>4086.29</td>\n",
       "      <td>467.083022</td>\n",
       "      <td>8</td>\n",
       "      <td>20</td>\n",
       "      <td>0.0</td>\n",
       "    </tr>\n",
       "    <tr>\n",
       "      <th>4</th>\n",
       "      <td>4069.13</td>\n",
       "      <td>4119.62</td>\n",
       "      <td>3911.79</td>\n",
       "      <td>4016.00</td>\n",
       "      <td>691.743060</td>\n",
       "      <td>8</td>\n",
       "      <td>21</td>\n",
       "      <td>1.0</td>\n",
       "    </tr>\n",
       "    <tr>\n",
       "      <th>...</th>\n",
       "      <td>...</td>\n",
       "      <td>...</td>\n",
       "      <td>...</td>\n",
       "      <td>...</td>\n",
       "      <td>...</td>\n",
       "      <td>...</td>\n",
       "      <td>...</td>\n",
       "      <td>...</td>\n",
       "    </tr>\n",
       "    <tr>\n",
       "      <th>2295</th>\n",
       "      <td>37818.88</td>\n",
       "      <td>38450.00</td>\n",
       "      <td>37570.00</td>\n",
       "      <td>37854.64</td>\n",
       "      <td>32994.191070</td>\n",
       "      <td>11</td>\n",
       "      <td>29</td>\n",
       "      <td>0.0</td>\n",
       "    </tr>\n",
       "    <tr>\n",
       "      <th>2296</th>\n",
       "      <td>37854.65</td>\n",
       "      <td>38145.85</td>\n",
       "      <td>37500.00</td>\n",
       "      <td>37723.96</td>\n",
       "      <td>24740.291470</td>\n",
       "      <td>11</td>\n",
       "      <td>30</td>\n",
       "      <td>1.0</td>\n",
       "    </tr>\n",
       "    <tr>\n",
       "      <th>2297</th>\n",
       "      <td>37723.97</td>\n",
       "      <td>38999.00</td>\n",
       "      <td>37615.86</td>\n",
       "      <td>38682.52</td>\n",
       "      <td>43415.663240</td>\n",
       "      <td>12</td>\n",
       "      <td>1</td>\n",
       "      <td>1.0</td>\n",
       "    </tr>\n",
       "    <tr>\n",
       "      <th>2298</th>\n",
       "      <td>38682.51</td>\n",
       "      <td>39717.14</td>\n",
       "      <td>38641.61</td>\n",
       "      <td>39450.35</td>\n",
       "      <td>26696.921610</td>\n",
       "      <td>12</td>\n",
       "      <td>2</td>\n",
       "      <td>1.0</td>\n",
       "    </tr>\n",
       "    <tr>\n",
       "      <th>2299</th>\n",
       "      <td>39450.35</td>\n",
       "      <td>40250.00</td>\n",
       "      <td>39274.86</td>\n",
       "      <td>39972.26</td>\n",
       "      <td>26710.653350</td>\n",
       "      <td>12</td>\n",
       "      <td>3</td>\n",
       "      <td>1.0</td>\n",
       "    </tr>\n",
       "  </tbody>\n",
       "</table>\n",
       "<p>2300 rows × 8 columns</p>\n",
       "</div>"
      ],
      "text/plain": [
       "          open      high       low     close        volume  month  day  \\\n",
       "0      4261.48   4485.39   4200.74   4285.08    795.150377      8   17   \n",
       "1      4285.08   4371.52   3938.77   4108.37   1199.888264      8   18   \n",
       "2      4108.37   4184.69   3850.00   4139.98    381.309763      8   19   \n",
       "3      4120.98   4211.08   4032.62   4086.29    467.083022      8   20   \n",
       "4      4069.13   4119.62   3911.79   4016.00    691.743060      8   21   \n",
       "...        ...       ...       ...       ...           ...    ...  ...   \n",
       "2295  37818.88  38450.00  37570.00  37854.64  32994.191070     11   29   \n",
       "2296  37854.65  38145.85  37500.00  37723.96  24740.291470     11   30   \n",
       "2297  37723.97  38999.00  37615.86  38682.52  43415.663240     12    1   \n",
       "2298  38682.51  39717.14  38641.61  39450.35  26696.921610     12    2   \n",
       "2299  39450.35  40250.00  39274.86  39972.26  26710.653350     12    3   \n",
       "\n",
       "      targets  \n",
       "0         0.0  \n",
       "1         1.0  \n",
       "2         0.0  \n",
       "3         0.0  \n",
       "4         1.0  \n",
       "...       ...  \n",
       "2295      0.0  \n",
       "2296      1.0  \n",
       "2297      1.0  \n",
       "2298      1.0  \n",
       "2299      1.0  \n",
       "\n",
       "[2300 rows x 8 columns]"
      ]
     },
     "execution_count": 26,
     "metadata": {},
     "output_type": "execute_result"
    }
   ],
   "source": [
    "chart_df"
   ]
  },
  {
   "cell_type": "code",
   "execution_count": 15,
   "id": "fc47e318-a711-4b4b-972c-775f6b3deb21",
   "metadata": {},
   "outputs": [],
   "source": [
    "close = chart_df[\"close\"].values \n",
    "\n",
    "targets = [] \n",
    "for i in range(len(close)-1): \n",
    "    diff = (close[i+1] - close[i]) / close[i] \n",
    "    if diff < 0:\n",
    "        targets.append(0) # short \n",
    "    else: \n",
    "        targets.append(1) # long \n",
    "        \n",
    "targets.append(None) "
   ]
  },
  {
   "cell_type": "code",
   "execution_count": 16,
   "id": "1240770d-61c0-473b-a624-191c5f25e2e0",
   "metadata": {},
   "outputs": [],
   "source": [
    "chart_df[\"targets\"] = targets\n",
    "\n",
    "chart_df.dropna(inplace=True) "
   ]
  },
  {
   "cell_type": "code",
   "execution_count": 17,
   "id": "f4d04251-9a86-4b47-9b3f-02f0a3b1225e",
   "metadata": {},
   "outputs": [],
   "source": [
    "scaler = MinMaxScaler() \n",
    "scaled_features = scaler.fit_transform(chart_df.drop('targets', axis=1)) "
   ]
  },
  {
   "cell_type": "code",
   "execution_count": 18,
   "id": "682dd2e0-2cdd-4df3-9bf5-3ae871ce10c4",
   "metadata": {},
   "outputs": [],
   "source": [
    "def create_dataset(X, y, time_step=1): \n",
    "    Xs, ys = [], [] \n",
    "    for i in range(len(X) - time_steps): \n",
    "        v = X.iloc[i:(i + time_steps)].values \n",
    "        Xs.append(v) \n",
    "        ys.append(y.iloc[i + time_steps]) \n",
    "    return np.array(Xs), np.array(ys) "
   ]
  },
  {
   "cell_type": "code",
   "execution_count": 19,
   "id": "5e6cf13e-996d-4a5a-97f5-b85db79b7312",
   "metadata": {},
   "outputs": [],
   "source": [
    "time_steps = 14\n",
    "X, y = create_dataset(pd.DataFrame(scaled_features), chart_df['targets'], time_steps)\n",
    "\n",
    "train_size = int(X.shape[0] * 0.8)\n",
    "\n",
    "X_train = X[:train_size] \n",
    "y_train = y[:train_size] \n",
    "\n",
    "X_val = X[train_size:] \n",
    "y_val = y[train_size:] "
   ]
  },
  {
   "cell_type": "code",
   "execution_count": 20,
   "id": "ef1aaf49-4f4d-48f2-ac34-e27a26674206",
   "metadata": {},
   "outputs": [
    {
     "data": {
      "text/plain": [
       "(torch.Size([1828, 14, 7]),\n",
       " torch.Size([1828]),\n",
       " torch.Size([458, 14, 7]),\n",
       " torch.Size([458]))"
      ]
     },
     "execution_count": 20,
     "metadata": {},
     "output_type": "execute_result"
    }
   ],
   "source": [
    "X_train = torch.tensor(X_train, dtype=torch.float32)\n",
    "y_train = torch.tensor(y_train, dtype=int)\n",
    "X_val = torch.tensor(X_val, dtype=torch.float32)\n",
    "y_val = torch.tensor(y_val, dtype=int)\n",
    "\n",
    "X_train.shape, y_train.shape, X_val.shape, y_val.shape"
   ]
  },
  {
   "cell_type": "code",
   "execution_count": 21,
   "id": "bdb8eb6d-bfb5-4393-9526-0d8c3f2942e3",
   "metadata": {},
   "outputs": [],
   "source": [
    "batch_size = 32\n",
    "train_data = TensorDataset(X_train, y_train)\n",
    "train_sampler = RandomSampler(train_data)\n",
    "train_dataloader = DataLoader(train_data, sampler=train_sampler, batch_size=batch_size)\n",
    "\n",
    "val_data = TensorDataset(X_val, y_val) \n",
    "val_sampler = SequentialSampler(val_data) \n",
    "val_dataloader = DataLoader(val_data, sampler=val_sampler, batch_size=batch_size) "
   ]
  },
  {
   "cell_type": "code",
   "execution_count": 22,
   "id": "55879592-f2b1-47bb-ad32-494899946a52",
   "metadata": {},
   "outputs": [],
   "source": [
    "class LSTMClassifier(nn.Module):\n",
    "    def __init__(self, input_size, hidden_layer_size, output_size):\n",
    "        super().__init__()\n",
    "        self.hidden_layer_size = hidden_layer_size\n",
    "        self.lstm = nn.LSTM(input_size, hidden_layer_size, batch_first=True)\n",
    "        self.linear = nn.Linear(hidden_layer_size, output_size)\n",
    "    def forward(self, input_seq):\n",
    "        # Initialize hidden and cell states with zeros\n",
    "        h0 = torch.zeros(1, input_seq.size(0), self.hidden_layer_size).to(input_seq.device)\n",
    "        c0 = torch.zeros(1, input_seq.size(0), self.hidden_layer_size).to(input_seq.device)\n",
    "        lstm_out, _ = self.lstm(input_seq, (h0, c0))\n",
    "        last_time_step = lstm_out[:, -1, :]\n",
    "        predictions = self.linear(last_time_step)\n",
    "        return predictions"
   ]
  },
  {
   "cell_type": "code",
   "execution_count": 23,
   "id": "30a58134-faf8-4fe4-ba26-eec7265fefa3",
   "metadata": {},
   "outputs": [],
   "source": [
    "def flat_accuracy(preds, labels):\n",
    "    pred_flat = np.argmax(preds, axis=1).flatten()\n",
    "    labels_flat = labels.flatten()\n",
    "    return np.sum(pred_flat == labels_flat) / len(labels_flat)"
   ]
  },
  {
   "cell_type": "code",
   "execution_count": 24,
   "id": "f344f0cf-b5ef-4158-82c5-12f7191c9323",
   "metadata": {},
   "outputs": [
    {
     "data": {
      "application/vnd.jupyter.widget-view+json": {
       "model_id": "852f7afa3f0a431cbaa206ded2e3f567",
       "version_major": 2,
       "version_minor": 0
      },
      "text/plain": [
       "epochs:   0%|          | 0/10 [00:00<?, ?it/s]"
      ]
     },
     "metadata": {},
     "output_type": "display_data"
    },
    {
     "name": "stdout",
     "output_type": "stream",
     "text": [
      "Epoch:0 | avg train loss:0.6951619047543098 | avg_val_loss:0.6931251009305318 | avg_val_accuracy:0.5033333333333333\n",
      "Epoch:1 | avg train loss:0.6934267097506029 | avg_val_loss:0.6930562535921733 | avg_val_accuracy:0.5320833333333334\n",
      "Epoch:2 | avg train loss:0.6927043261199162 | avg_val_loss:0.6931762218475341 | avg_val_accuracy:0.5091666666666667\n",
      "Epoch:3 | avg train loss:0.692384038505883 | avg_val_loss:0.6935765663782756 | avg_val_accuracy:0.4966666666666667\n",
      "Epoch:4 | avg train loss:0.6916799103391582 | avg_val_loss:0.6936832507451375 | avg_val_accuracy:0.4966666666666667\n",
      "Epoch:5 | avg train loss:0.6920113409387654 | avg_val_loss:0.6939559499422709 | avg_val_accuracy:0.4966666666666667\n",
      "Epoch:6 | avg train loss:0.6919664360325912 | avg_val_loss:0.6938185254732768 | avg_val_accuracy:0.4966666666666667\n",
      "Epoch:7 | avg train loss:0.6924109489753328 | avg_val_loss:0.6940711696942647 | avg_val_accuracy:0.4966666666666667\n",
      "Epoch:8 | avg train loss:0.692068338394165 | avg_val_loss:0.6937520583470662 | avg_val_accuracy:0.4966666666666667\n",
      "Epoch:9 | avg train loss:0.6918159928815119 | avg_val_loss:0.693835453192393 | avg_val_accuracy:0.4966666666666667\n"
     ]
    }
   ],
   "source": [
    "device = torch.device(\"cuda\") \n",
    "\n",
    "input_size = 7\n",
    "hidden_layer_size = 64\n",
    "output_size = 2\n",
    "epochs = 10 \n",
    "model = LSTMClassifier(input_size, hidden_layer_size, output_size)  \n",
    "model.to(device) \n",
    "\n",
    "device = torch.device(\"cuda:0\")\n",
    "\n",
    "loss_func = nn.CrossEntropyLoss() \n",
    "optimizer = torch.optim.AdamW(model.parameters(), lr=1e-4)\n",
    "\n",
    "best_val_loss = np.inf\n",
    "\n",
    "model.zero_grad()\n",
    "for epoch in tqdm(range(epochs), desc=\"epochs\", position=0, leave=True): \n",
    "    train_loss = 0 \n",
    "    model.train() \n",
    "    for step, batch in enumerate(train_dataloader): \n",
    "        batch = tuple(t.to(device) for t in batch) \n",
    "        b_x, b_y = batch \n",
    "        output = model(b_x)\n",
    "        loss = loss_func(output, b_y) \n",
    "        train_loss += loss.item() \n",
    "        loss.backward() \n",
    "        torch.nn.utils.clip_grad_norm_(model.parameters(), 1.0) \n",
    "        optimizer.step() \n",
    "        model.zero_grad() \n",
    "    \n",
    "    val_loss = 0 \n",
    "    val_accuracy = 0 \n",
    "    model.eval() \n",
    "    for step, batch in enumerate(val_dataloader):\n",
    "        batch = tuple(t.to(device) for t in batch) \n",
    "        b_x, b_y = batch \n",
    "        with torch.no_grad():\n",
    "            output = model(b_x) \n",
    "            loss = loss_func(output, b_y) \n",
    "            val_loss += loss.item() \n",
    "            val_accuracy += flat_accuracy(output.detach().cpu().numpy(), b_y.detach().cpu().numpy()) \n",
    "    \n",
    "    avg_train_loss = train_loss / len(train_dataloader) \n",
    "    avg_val_loss = val_loss / len(val_dataloader) \n",
    "    avg_val_accuracy = val_accuracy / len(val_dataloader)\n",
    "    if best_val_loss > avg_val_loss:\n",
    "        best_val_loss = avg_val_loss\n",
    "        torch.save(model.state_dict(), \"best_lstm.pt\")\n",
    "    \n",
    "    print(f\"Epoch:{epoch} | avg train loss:{avg_train_loss} | avg_val_loss:{avg_val_loss} | avg_val_accuracy:{avg_val_accuracy}\")"
   ]
  },
  {
   "cell_type": "code",
   "execution_count": 39,
   "id": "45a8c5a6-44df-4d1f-90ca-c775f25d27cc",
   "metadata": {},
   "outputs": [
    {
     "data": {
      "text/plain": [
       "['LSTM_minmax_scaler.pkl']"
      ]
     },
     "execution_count": 39,
     "metadata": {},
     "output_type": "execute_result"
    }
   ],
   "source": [
    "# save scaler \n",
    "import joblib \n",
    "joblib.dump(scaler, 'LSTM_minmax_scaler.pkl')"
   ]
  },
  {
   "cell_type": "markdown",
   "id": "80ebd40f-6939-4c04-b390-9974d56b706f",
   "metadata": {},
   "source": [
    "# Inference Code"
   ]
  },
  {
   "cell_type": "code",
   "execution_count": 25,
   "id": "886a58ff-46f8-4ca7-b7cd-4e386236afd7",
   "metadata": {},
   "outputs": [
    {
     "data": {
      "text/plain": [
       "<All keys matched successfully>"
      ]
     },
     "execution_count": 25,
     "metadata": {},
     "output_type": "execute_result"
    }
   ],
   "source": [
    "# run inference on CPU \n",
    "input_size = 7\n",
    "hidden_layer_size = 64\n",
    "output_size = 2\n",
    "LSTM_test = LSTMClassifier(input_size, hidden_layer_size, output_size)  \n",
    "checkpoint = torch.load(\"best_lstm.pt\") \n",
    "LSTM_test.load_state_dict(checkpoint)"
   ]
  },
  {
   "cell_type": "code",
   "execution_count": 40,
   "id": "511fc7f1-7001-4b23-ad5e-082961ea526c",
   "metadata": {},
   "outputs": [],
   "source": [
    "test_scaler = joblib.load(\"LSTM_minmax_scaler.pkl\")"
   ]
  },
  {
   "cell_type": "code",
   "execution_count": 28,
   "id": "e57bbfe2-c3df-4059-b246-fdb72cce5c7a",
   "metadata": {},
   "outputs": [],
   "source": [
    "def preprocess(df):\n",
    "    # Convert timestamps to datetime objects in Korean timezone\n",
    "    korean_timezone = zoneinfo.ZoneInfo(\"Asia/Seoul\")\n",
    "    df['datetime'] = pd.to_datetime(df['timestamp'], unit='ms', utc=True)\n",
    "    df['datetime'] = df['datetime'].dt.tz_convert(korean_timezone)\n",
    "    return df"
   ]
  },
  {
   "cell_type": "code",
   "execution_count": 46,
   "id": "78c7d377-829a-4871-ad22-ea54683329dd",
   "metadata": {},
   "outputs": [],
   "source": [
    "bitget = ccxt.bitget()\n",
    "ohlcv = bitget.fetch_ohlcv(\"BTC/USDT:USDT\", \"1d\")\n",
    "chart_df = pd.DataFrame(ohlcv, columns=['timestamp', 'open', 'high', 'low', 'close', 'volume'])\n",
    "chart_df = preprocess(chart_df)\n",
    "days, months = [], []\n",
    "for dt in chart_df[\"datetime\"]:\n",
    "    dtobj = pd.to_datetime(dt)\n",
    "    day = dtobj.day\n",
    "    month = dtobj.month\n",
    "    days.append(day)\n",
    "    months.append(month)\n",
    "chart_df[\"month\"] = months\n",
    "chart_df[\"day\"] = days\n",
    "chart_df.drop(columns={\"timestamp\", \"datetime\"}, inplace=True)"
   ]
  },
  {
   "cell_type": "code",
   "execution_count": 43,
   "id": "743c7ff7-cf3a-4a0b-82a8-d09f36ab441f",
   "metadata": {},
   "outputs": [],
   "source": [
    "test_scaled_features = test_scaler.transform(chart_df)  "
   ]
  },
  {
   "cell_type": "code",
   "execution_count": 59,
   "id": "f8d0f1ad-73bd-4710-9924-17c36a9b6a3a",
   "metadata": {},
   "outputs": [
    {
     "name": "stdout",
     "output_type": "stream",
     "text": [
      "long prob: 0.5021270513534546%\n",
      "short prob: 0.49787288904190063%\n"
     ]
    },
    {
     "name": "stderr",
     "output_type": "stream",
     "text": [
      "/tmp/ipykernel_571/2476712823.py:8: UserWarning: Implicit dimension choice for softmax has been deprecated. Change the call to include dim=X as an argument.\n",
      "  probs = nn.Softmax()(output)[0]\n"
     ]
    }
   ],
   "source": [
    "test_input = test_scaled_features[-15:-1]  \n",
    "test_input = test_input.reshape((-1, 14, 7)) \n",
    "test_input = torch.tensor(test_input, dtype=torch.float32)\n",
    "\n",
    "LSTM_test.eval()\n",
    "with torch.no_grad():\n",
    "    output = LSTM_test(test_input) \n",
    "    probs = nn.Softmax()(output)[0] \n",
    "    print(f\"long prob: {probs[1]}%\")  \n",
    "    print(f\"short prob: {probs[0]}%\") "
   ]
  },
  {
   "cell_type": "code",
   "execution_count": 68,
   "id": "ebf66afe-99c0-4c4d-ab99-6024e3036acb",
   "metadata": {},
   "outputs": [],
   "source": [
    "# inference function \n",
    "def infer_LSTM(): \n",
    "    input_size = 7\n",
    "    hidden_layer_size = 64\n",
    "    output_size = 2\n",
    "    LSTM_test = LSTMClassifier(input_size, hidden_layer_size, output_size)  \n",
    "    checkpoint = torch.load(\"best_lstm.pt\") \n",
    "    LSTM_test.load_state_dict(checkpoint)\n",
    "    test_scaler = joblib.load(\"LSTM_minmax_scaler.pkl\")\n",
    "    \n",
    "    bitget = ccxt.bitget()\n",
    "    ohlcv = bitget.fetch_ohlcv(\"BTC/USDT:USDT\", \"1d\")\n",
    "    chart_df = pd.DataFrame(ohlcv, columns=['timestamp', 'open', 'high', 'low', 'close', 'volume'])\n",
    "    chart_df = preprocess(chart_df)\n",
    "    days, months = [], []\n",
    "    for dt in chart_df[\"datetime\"]:\n",
    "        dtobj = pd.to_datetime(dt)\n",
    "        day = dtobj.day\n",
    "        month = dtobj.month\n",
    "        days.append(day)\n",
    "        months.append(month)\n",
    "    chart_df[\"month\"] = months\n",
    "    chart_df[\"day\"] = days\n",
    "    chart_df.drop(columns={\"timestamp\", \"datetime\"}, inplace=True)\n",
    "    \n",
    "    test_scaled_features = test_scaler.transform(chart_df)  \n",
    "    test_input = test_scaled_features[-15:-1]  \n",
    "    test_input = test_input.reshape((-1, 14, 7)) \n",
    "    test_input = torch.tensor(test_input, dtype=torch.float32)\n",
    "\n",
    "    LSTM_test.eval()\n",
    "    with torch.no_grad():\n",
    "        output = LSTM_test(test_input) \n",
    "        probs = nn.Softmax(dim=-1)(output)[0] \n",
    "        probs = probs.detach().cpu().numpy() \n",
    "\n",
    "    LSTM_long_prob = round(probs[1] * 100, 2)\n",
    "    LSTM_short_prob = round(probs[0] * 100, 2)\n",
    "    return LSTM_long_prob, LSTM_short_prob"
   ]
  },
  {
   "cell_type": "code",
   "execution_count": 69,
   "id": "1d3b9d55-663c-49f7-a37d-b1059bbbb03f",
   "metadata": {},
   "outputs": [
    {
     "data": {
      "text/plain": [
       "(50.21, 49.79)"
      ]
     },
     "execution_count": 69,
     "metadata": {},
     "output_type": "execute_result"
    }
   ],
   "source": [
    "infer_LSTM()"
   ]
  },
  {
   "cell_type": "code",
   "execution_count": null,
   "id": "4c1e99f3-1725-40ad-9624-ea33136a8468",
   "metadata": {},
   "outputs": [],
   "source": []
  },
  {
   "cell_type": "code",
   "execution_count": null,
   "id": "c8107933-ac1c-4358-9b85-1a5871bf6dff",
   "metadata": {},
   "outputs": [],
   "source": []
  }
 ],
 "metadata": {
  "kernelspec": {
   "display_name": "Python 3 (ipykernel)",
   "language": "python",
   "name": "python3"
  },
  "language_info": {
   "codemirror_mode": {
    "name": "ipython",
    "version": 3
   },
   "file_extension": ".py",
   "mimetype": "text/x-python",
   "name": "python",
   "nbconvert_exporter": "python",
   "pygments_lexer": "ipython3",
   "version": "3.9.16"
  }
 },
 "nbformat": 4,
 "nbformat_minor": 5
}
